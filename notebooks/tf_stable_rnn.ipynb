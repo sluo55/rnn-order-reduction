{
 "cells": [
  {
   "cell_type": "code",
   "execution_count": 2,
   "id": "325174d7-c2a4-43ba-af4f-dbf5122010e4",
   "metadata": {},
   "outputs": [],
   "source": [
    "import time\n",
    "import warnings\n",
    "\n",
    "import numpy as np\n",
    "import numpy.linalg as LA\n",
    "import scipy.linalg as SLA\n",
    "from scipy import io\n",
    "import matplotlib.pyplot as plt\n",
    "\n",
    "import tensorflow as tf\n",
    "from tensorflow import keras\n",
    "import tensorflow.keras.backend as K\n",
    "from tensorflow.keras import layers\n",
    "from scipy.stats import ortho_group"
   ]
  },
  {
   "cell_type": "markdown",
   "id": "f215024e-2428-4588-ac33-c0a6efef84b0",
   "metadata": {},
   "source": [
    "# Customized RNN cells #\n",
    "We use RNN cells as discrete models for a system of ODEs\n",
    "$$ \\dot{z}=Wz+Rf(x) $$\n",
    "$$ \\dot{x}=R^Tz $$\n",
    "Assume $f(x)=-\\nabla E(x)$ for some energy functional $E(x)$. The ODE system is stable if $W^T+W \\preceq 0$."
   ]
  },
  {
   "cell_type": "markdown",
   "id": "42aa2d77-3c03-44fd-8d18-53c57440a28f",
   "metadata": {},
   "source": [
    "## Constant matrices ## \n",
    "1. Forward Euler Discrete Model\n",
    "$$ z_{i+1} = (I+W_d) z_i + \\frac{1}{c}R_df(x_i) $$\n",
    "$$ x_{i+1} = x_i + kR_d^Tz_i $$\n",
    "2. The second model we try can be considered as a implicit mid-point discretization but with local linearization of $f$.\n",
    "$$ z_{i+1} = z_i + W_d \\frac{z_i+z_{i+1}}{2} + \\frac{1}{c}R[f(x_i)+J_f(x_i)\\frac{x_{i+1}-x_i}{2}] $$\n",
    "$$ x_{i+1} = x_i + kR^T\\frac{z_i+z_{i+1}}{2} $$\n",
    "If $f$ is a linear force (i.e., $E(x)$ is quadratic), this model is guaranteed to be globally asymptotically stable (G.A.S.) if $W_d+W^T_d\\preceq 0$ because it is the backward Euler scheme of a stable ODE with a quadratic lyapunov functional.  \n",
    "If $f$ is not linear, then $W_d+W^T_d\\preceq 0$ can only guarantee local stability.  \n",
    "A direct way of enforcing $W_d+W^T_d\\preceq 0$ is to decompose $W_d$ into a symmetric matrix and a skew-symmetric matrix. It follows that $W_d$ is similar to the sum of a diagonal matrix of nonpositive diagonal entries and a skew-symmetric matrix\n",
    "$$ W_d\\sim D_d+S_d, \\quad D_d\\preceq 0, \\quad S_d=-S_d^T. $$"
   ]
  },
  {
   "cell_type": "code",
   "execution_count": 3,
   "id": "86870ad4-51f3-4b3a-952b-d55c83f0860a",
   "metadata": {},
   "outputs": [],
   "source": [
    "class Between(keras.constraints.Constraint):\n",
    "    def __init__(self, min_value, max_value):\n",
    "        self.min_value = min_value\n",
    "        self.max_value = max_value\n",
    "\n",
    "    def __call__(self, w):        \n",
    "        return K.clip(w, self.min_value, self.max_value)\n",
    "\n",
    "    def get_config(self):\n",
    "        return {'min_value': self.min_value,\n",
    "                'max_value': self.max_value}\n",
    "    \n",
    "class rnn_const_exp(layers.Layer):\n",
    "    def __init__(self, dimx, dimz, c, k, force):\n",
    "        super(rnn_const_exp, self).__init__()\n",
    "        self.c = c\n",
    "        self.k = k\n",
    "        self.dimx = dimx\n",
    "        self.units = dimz\n",
    "        self.state_size = (self.units, self.dimx)\n",
    "        self.F = force # force function\n",
    "        \n",
    "    def build(self, input_shapes):\n",
    "        # R's entries are likely to be small\n",
    "        self.R = self.add_weight(\n",
    "            shape=(self.dimx, self.units), initializer=keras.initializers.Orthogonal(), name=\"fsi_coupling\"\n",
    "        )\n",
    "        \n",
    "        self.nd = self.add_weight(\n",
    "            shape=(self.units,), initializer=keras.initializers.Constant(value=.5), \n",
    "            constraint=Between(0.0, 2.0),\n",
    "            name=\"hidden_opt\"\n",
    "        )\n",
    "        \n",
    "        self.A = self.add_weight(\n",
    "            shape=(self.units,self.units), initializer=keras.initializers.Constant(value=0.), \n",
    "            name=\"ssym\"\n",
    "        )\n",
    "        \n",
    "        self.built = True\n",
    "        \n",
    "    def call(self, inputs, states):\n",
    "        # states[0] = z_i, state[1]=x_i-x_0 (agrees with 0 initial state)\n",
    "        # inputs are all x0\n",
    "        # outputs are x1,x2,...,xN\n",
    "        zi = states[0]\n",
    "        xi = inputs+states[1]\n",
    "        F = 1/self.c * self.F(xi)\n",
    "        zip1 = F @ self.R + zi * (1-self.nd) + zi @ self.A - zi @ tf.transpose(self.A)\n",
    "        dx = zi @ tf.transpose(self.R)\n",
    "        return dx, [zip1, states[1]+self.k*dx]"
   ]
  },
  {
   "cell_type": "code",
   "execution_count": 4,
   "id": "1d9d9fda-3e31-42b0-b657-6153cec03e17",
   "metadata": {},
   "outputs": [],
   "source": [
    "class rnn_const_exp(layers.Layer):\n",
    "    def __init__(self, dimx, dimz, c, k, force):\n",
    "        super(rnn_const_exp, self).__init__()\n",
    "        self.c = c\n",
    "        self.k = k\n",
    "        self.dimx = dimx\n",
    "        self.units = dimz\n",
    "        self.state_size = (self.units, self.dimx)\n",
    "        self.F = force # force function\n",
    "        \n",
    "    def build(self, input_shapes):\n",
    "        # R's entries are likely to be small\n",
    "        self.R = self.add_weight(\n",
    "            shape=(self.dimx, self.units), initializer=keras.initializers.Orthogonal(), name=\"fsi_coupling\"\n",
    "        )\n",
    "        \n",
    "        self.nd = self.add_weight(\n",
    "            shape=(self.units,), initializer=keras.initializers.Constant(value=.5), \n",
    "            name=\"hidden_opt\"\n",
    "        )\n",
    "        \n",
    "        self.built = True\n",
    "        \n",
    "    def call(self, inputs, states):\n",
    "        # states[0] = z_i, state[1]=x_i-x_0 (agrees with 0 initial state)\n",
    "        # inputs are all x0\n",
    "        # outputs are x1,x2,...,xN\n",
    "        zi = states[0]\n",
    "        xi = inputs+states[1]\n",
    "        F = 1/self.c * self.F(xi)\n",
    "        zip1 = F @ self.R + zi * self.nd\n",
    "        dx = zi @ tf.transpose(self.R)\n",
    "        return dx, [zip1, states[1]+self.k*dx]"
   ]
  },
  {
   "cell_type": "code",
   "execution_count": 5,
   "id": "c8aa3e08-267a-4c28-8869-4cdd77870549",
   "metadata": {},
   "outputs": [],
   "source": [
    "class rnn_const_mid(layers.Layer):\n",
    "    # current version has diagonal -1<-D<0\n",
    "    def __init__(self, dimx, dimz, c, k, force, jf):\n",
    "        super(rnn_const_mid, self).__init__()\n",
    "        self.c = c\n",
    "        self.k = k\n",
    "        self.dimx = dimx\n",
    "        self.units = dimz\n",
    "        self.state_size = (self.units, self.dimx)\n",
    "        self.F = force # force function\n",
    "        self.Jf = jf # jacobian of the force, also a function of x\n",
    "        \n",
    "    def build(self, input_shapes):\n",
    "        # R's entries are likely to be small\n",
    "        self.R = self.add_weight(\n",
    "            shape=(self.dimx, self.units), initializer=keras.initializers.Orthogonal(), name=\"fsi_coupling\"\n",
    "        )\n",
    "        # W is supposed to be a small perturbation of the identity matrix\n",
    "        self.nd = self.add_weight(\n",
    "            shape=(self.units,), initializer=keras.initializers.Constant(value=0.1), \n",
    "            constraint=keras.constraints.NonNeg(), name=\"hidden_opt\"\n",
    "        )\n",
    "        #self.A = self.add_weight(\n",
    "        #    shape=(self.units,self.units), initializer=keras.initializers.Constant(value=0.), \n",
    "        #    name=\"ssym\"\n",
    "        #)\n",
    "        self.built = True\n",
    "        \n",
    "    def call(self, inputs, states):\n",
    "        # states[0] = z_i, state[1]=x_i-x_0 (agrees with 0 initial state)\n",
    "        # inputs are all x0\n",
    "        # outputs are x1,x2,...,xN\n",
    "        zi = states[0]\n",
    "        xi = inputs+states[1]\n",
    "        J = self.Jf(xi)\n",
    "        F = 1/self.c*self.F(xi)\n",
    "        #S = tf.linalg.inv(tf.linalg.diag(1+0.5*self.nd)+self.A-tf.transpose(self.A)\n",
    "        #                  -0.25*self.k/self.c*tf.transpose(self.R) @ tf.transpose(J) @ self.R)\n",
    "        S = tf.linalg.inv(tf.linalg.diag(1+0.5*self.nd)\n",
    "                          -0.25*self.k/self.c*tf.transpose(self.R) @ tf.transpose(J) @ self.R)\n",
    "        zip1 = (2*zi + F @ self.R) @ S - zi\n",
    "        dx = 0.5*(zi+zip1) @ tf.transpose(self.R)\n",
    "        return dx, [zip1, states[1]+self.k*dx]"
   ]
  },
  {
   "cell_type": "code",
   "execution_count": 6,
   "id": "f2460746-097f-49c7-83cb-e779d3b160fc",
   "metadata": {},
   "outputs": [],
   "source": [
    "class rnn_const_mid_us(layers.Layer):\n",
    "    # current version has diagonal -1<-D<0\n",
    "    def __init__(self, dimx, dimz, c, k, force, jf):\n",
    "        super(rnn_const_mid_us, self).__init__()\n",
    "        self.c = c\n",
    "        self.k = k\n",
    "        self.dimx = dimx\n",
    "        self.units = dimz\n",
    "        self.state_size = (self.units, self.dimx)\n",
    "        self.F = force # force function\n",
    "        self.Jf = jf # jacobian of the force, also a function of x\n",
    "        \n",
    "    def build(self, input_shapes):\n",
    "        # R's entries are likely to be small\n",
    "        self.R = self.add_weight(\n",
    "            shape=(self.dimx, self.units), initializer=keras.initializers.Orthogonal(), name=\"fsi_coupling\"\n",
    "        )\n",
    "        # W is not necessarily (W+W^T<0)\n",
    "        self.W = self.add_weight(\n",
    "            shape=(self.units, self.units), \n",
    "            initializer=keras.initializers.Constant(value=0.1),\n",
    "            name=\"hidden_opt\"\n",
    "        )\n",
    "        self.built = True\n",
    "        \n",
    "    def call(self, inputs, states):\n",
    "        # states[0] = z_i, state[1]=x_i-x_0 (agrees with 0 initial state)\n",
    "        # inputs are all x0\n",
    "        # outputs are x1,x2,...,xN\n",
    "        zi = states[0]\n",
    "        xi = inputs+states[1]\n",
    "        J = self.Jf(xi)\n",
    "        F = 1/self.c*self.F(xi)\n",
    "        S = tf.linalg.inv(tf.eye(self.units)+self.W-0.25*self.k/self.c*tf.transpose(self.R) @ tf.transpose(J) @ self.R)\n",
    "        zip1 = (2*zi + F @ self.R) @ S - zi\n",
    "        dx = 0.5*(zi+zip1) @ tf.transpose(self.R)\n",
    "        return dx, [zip1, states[1]+self.k*dx]"
   ]
  },
  {
   "cell_type": "markdown",
   "id": "8dca2810-a224-4c74-a3d6-bae77c58e9db",
   "metadata": {},
   "source": [
    "# Build Models #"
   ]
  },
  {
   "cell_type": "code",
   "execution_count": 7,
   "id": "7d7b5f2c-0330-4d00-9db4-5e0736e4701b",
   "metadata": {},
   "outputs": [],
   "source": [
    "def build_const_exp_model(x_dim, hidden_dim, time_steps, c, k, force_func):\n",
    "    # input is (batch_size, time_steps, x0s)\n",
    "    rnn_cell = rnn_const_exp(x_dim, hidden_dim, c, k, force_func)\n",
    "    rnn = layers.RNN(rnn_cell, return_sequences=True)\n",
    "    inputs = keras.Input(shape=(time_steps, x_dim))\n",
    "    outputs = rnn(inputs)\n",
    "    model = keras.Model(inputs=inputs, outputs=outputs, name=\"const_exp_rom\")\n",
    "    return model"
   ]
  },
  {
   "cell_type": "code",
   "execution_count": 8,
   "id": "740d708e-6d6f-4a5a-a1a4-a40cad742edd",
   "metadata": {},
   "outputs": [],
   "source": [
    "def build_const_mid_model(x_dim, hidden_dim, time_steps, c, k, force_func, jf):\n",
    "    # input is (batch_size, time_steps, x0s)\n",
    "    rnn_cell = rnn_const_mid(x_dim, hidden_dim, c, k, force_func, jf)\n",
    "    rnn = layers.RNN(rnn_cell, return_sequences=True)\n",
    "    inputs = keras.Input(shape=(time_steps, x_dim))\n",
    "    outputs = rnn(inputs)\n",
    "    model = keras.Model(inputs=inputs, outputs=outputs, name=\"const_mid_rom\")\n",
    "    return model"
   ]
  },
  {
   "cell_type": "code",
   "execution_count": 9,
   "id": "81c49e7e-694d-4b22-be75-f7c1fb400d09",
   "metadata": {},
   "outputs": [],
   "source": [
    "def build_const_mid_model_us(x_dim, hidden_dim, time_steps, c, k, force_func, jf):\n",
    "    # input is (batch_size, time_steps, x0s)\n",
    "    rnn_cell = rnn_const_mid_us(x_dim, hidden_dim, c, k, force_func, jf)\n",
    "    rnn = layers.RNN(rnn_cell, return_sequences=True)\n",
    "    inputs = keras.Input(shape=(time_steps, x_dim))\n",
    "    outputs = rnn(inputs)\n",
    "    model = keras.Model(inputs=inputs, outputs=outputs, name=\"const_mid_rom\")\n",
    "    return model"
   ]
  },
  {
   "cell_type": "markdown",
   "id": "3b7ad093-b716-4f8e-b530-aeee6ed5c2f8",
   "metadata": {},
   "source": [
    "# Data Preparation #\n",
    "Raw data is a matlab file with x0, x1, ..., xn and f(x0), f(x1), ..., f(xn). We specify if we are learning a single sequence. The sequences might be long, a cutoff length can be provided to train (validate) only on the first few time steps. Note that this does not apply to test data since we do want to test long term behavior. \n",
    "1. When True, only the first sequence in raw data is processed, and batch_size is 1. It serves as both training and testing data. \n",
    "2. When False, the data is split into train/validation/test set."
   ]
  },
  {
   "cell_type": "code",
   "execution_count": 10,
   "id": "ba5b169e-938f-4727-bb46-d54a9b57a560",
   "metadata": {},
   "outputs": [],
   "source": [
    "# load data. Size must follow\n",
    "# input(xdata): (number of samples, time steps, input dimension)\n",
    "# output(ydata): (number of samples, time steps, output dimension)\n",
    "def load_matlab(filepath):\n",
    "    matlab_data = io.loadmat(filepath)\n",
    "    input_matlab = matlab_data['fs'] # 1-by-N array N=number of sequences\n",
    "    output_matlab = matlab_data['xs'] # 1-by-N array\n",
    "    \n",
    "    #assert input_matlab.shape[1] == output_matlab.shape[1], 'number of samples must be consistent in input and output'\n",
    "    input_matlab = input_matlab[0] # 1D np array of length N, each has dimension (ts, dimx)\n",
    "    output_matlab = output_matlab[0]\n",
    "    \n",
    "    fdata = np.empty((input_matlab.shape[0], input_matlab[0].shape[0], input_matlab[0].shape[1]))\n",
    "    xdata = np.empty((output_matlab.shape[0], output_matlab[0].shape[0], output_matlab[0].shape[1]))\n",
    "    for i in range(xdata.shape[0]):\n",
    "        if i<fdata.shape[0]:\n",
    "            fdata[i] = input_matlab[i] # forces\n",
    "        xdata[i] = output_matlab[i] # xs\n",
    "    # compute the scalar that normalizes f\n",
    "    mag_dx = abs(xdata[:,1:,:]-xdata[:,:-1,:]).max()\n",
    "    mag_f = abs(fdata).max()\n",
    "    print(f'force magnitude: {mag_f:02f}')\n",
    "    print(f'dx magnitude: {mag_dx:02f}')\n",
    "    return xdata, mag_f, mag_dx, fdata"
   ]
  },
  {
   "cell_type": "code",
   "execution_count": 11,
   "id": "6aef65c6-d6ab-4d3b-8d92-7702713a6c1f",
   "metadata": {},
   "outputs": [],
   "source": [
    "def data_loader(xs, mag_dx, one_seq=True, cutoff=None, batch_size=32, val_ratio=0.3, test_ratio=0.2):\n",
    "    \n",
    "    # check there's enough (50%) training data left\n",
    "    assert val_ratio + test_ratio <= 0.5, 'Please use less data for validation and test.'\n",
    "    \n",
    "    if cutoff is None:\n",
    "        cutoff = xs.shape[1]-1 # data include step 0 ~ step n, model only outputs step 1 ~ step n\n",
    "    cutoff = min(cutoff, xs.shape[1]-1)\n",
    "    \n",
    "    if one_seq:\n",
    "        xdata = xs[0] # (ts, dimx) array\n",
    "        x0 = xdata[0]\n",
    "        x0s = np.array([np.tile(x0, (cutoff, 1))])\n",
    "        #xs = np.array([xdata[1:cutoff+1]])\n",
    "        xs = 1/mag_dx*np.array([xdata[1:cutoff+1]-xdata[:cutoff]]) # output is scaled dx\n",
    "        train_dataset = tf.data.Dataset.from_tensor_slices((x0s, xs)).batch(1)\n",
    "        return train_dataset, cutoff, np.array([xdata])\n",
    "    \n",
    "    # shuffle data\n",
    "    shuffler = np.random.permutation(len(xs))\n",
    "    xs = xs[shuffler]\n",
    "    \n",
    "    nos = xs.shape[0] # number of samples\n",
    "    test_size = int(nos * test_ratio)\n",
    "    val_size = int(nos * val_ratio)\n",
    "    \n",
    "    x_test = xs[-test_size:]\n",
    "    \n",
    "    x_val = xs[-test_size-val_size:-test_size]\n",
    "    x0_val = np.empty((x_val.shape[0], cutoff, x_val.shape[2]))\n",
    "    for i in range(x0_val.shape[0]):\n",
    "        x0_val[i] = np.tile(x_val[i,0,:], (cutoff, 1))\n",
    "    \n",
    "    x_train = xs[:-test_size-val_size]\n",
    "    x0_train = np.empty((x_train.shape[0], cutoff, x_train.shape[2]))\n",
    "    for i in range(x0_train.shape[0]):\n",
    "        x0_train[i] = np.tile(x_train[i,0,:], (cutoff, 1))\n",
    "    \n",
    "    # Prepare the training dataset.\n",
    "    train_dataset = tf.data.Dataset.from_tensor_slices((x0_train, 1/mag_dx*(x_train[:,1:cutoff+1,:]-x_train[:,:cutoff,:])))\n",
    "    train_dataset = train_dataset.shuffle(buffer_size=min(1024, x0_train.shape[0])).batch(batch_size)\n",
    "\n",
    "    # Prepare the validation dataset.\n",
    "    val_dataset = tf.data.Dataset.from_tensor_slices((x0_val, 1/mag_dx*(x_val[:,1:cutoff+1,:]-x_val[:,:cutoff,:])))\n",
    "    val_dataset = val_dataset.batch(batch_size)\n",
    "    \n",
    "    return train_dataset, val_dataset, cutoff, x_test"
   ]
  },
  {
   "cell_type": "markdown",
   "id": "8e1c2e61-eb7d-4649-a561-246414d53b2e",
   "metadata": {},
   "source": [
    "# Test Routine #\n",
    "The test data is an array of shape (samples, timesteps, dimx). We randomly choose a sample (of x at time step 0 only). Use the model weights to generate an arbitrarily long sequence. The function then\n",
    "1. plots the 0 component of the data and the generated sequence\n",
    "2. computes the loss up to length of the test data."
   ]
  },
  {
   "cell_type": "code",
   "execution_count": 12,
   "id": "3662d966-cc3e-41a9-914c-e0e885e087a5",
   "metadata": {},
   "outputs": [],
   "source": [
    "def lsim(x0, n_step, rnncell):\n",
    "    h = tf.zeros((1,rnncell.units))\n",
    "    dx0 = tf.zeros(rnncell.dimx)\n",
    "    inputs = tf.convert_to_tensor([x0], dtype=tf.float32)\n",
    "    state = [h, dx0]\n",
    "    #xs_p = [x0]\n",
    "    xs_p = []\n",
    "    for _ in range(n_step):\n",
    "        x, state = rnncell.call(inputs, state)\n",
    "        xs_p.append(x.numpy().reshape(x0.shape[0],))\n",
    "    #return np.array(xs_p) # shape (n_step+1, dimx) \n",
    "    return rnncell.k*np.array(xs_p) # shape (n_step, dimx) "
   ]
  },
  {
   "cell_type": "code",
   "execution_count": 13,
   "id": "cff9096c-9f03-4f3a-bc53-e332aaa470ee",
   "metadata": {},
   "outputs": [],
   "source": [
    "def test_traj_plot(cus_model, x_true, n_step=None, randsample=False, randcomp=False):\n",
    "    # x_true has shape (samples, ts, dimx)\n",
    "    if randsample:\n",
    "        sample_id = np.random.randint(x_true.shape[0])\n",
    "    else:\n",
    "        sample_id = 0\n",
    "    xdata = x_true[sample_id]\n",
    "    x0 = xdata[0]\n",
    "    if n_step is None:\n",
    "        n_step = xdata.shape[0]-1\n",
    "    comp_id = 0\n",
    "    if randcomp:\n",
    "        comp_id = np.random.randint(x_true.shape[2])\n",
    "    rnncell = cus_model.layers[1].cell\n",
    "    #x_pred = lsim(x0, n_step, rnncell)\n",
    "    dx = lsim(x0, n_step, rnncell)\n",
    "    x_pred = np.vstack((x0, np.cumsum(dx, axis=0)+x0))\n",
    "    plt.plot(xdata[:,comp_id], label='true')\n",
    "    plt.plot(x_pred[:,comp_id], '--', label='pred')\n",
    "    plt.xticks(fontsize=14)\n",
    "    plt.yticks(fontsize=14)\n",
    "    plt.legend(prop={'size': 16})\n",
    "    plt.xlabel('time steps', fontsize=18)\n",
    "    plt.ylabel('x', fontsize=18)\n",
    "    #plt.title(f\"Sample ID: {sample_id} Test Trajectory of component {comp_id}\", fontsize=18)\n",
    "    \n",
    "    #compute test loss\n",
    "    ts = min(n_step, xdata.shape[0]-1)+1\n",
    "    #print(f\"Test loss of sample {sample_id}: {(np.square(xdata[:ts] - x_pred[:ts])).mean():.6f}.\")\n",
    "    print(f\"Test loss of sample {sample_id}: {(np.square(1/rnncell.k*(xdata[1:ts]-xdata[:ts-1]-dx[:ts-1]))).mean():.6f}.\")\n",
    "    return x_pred, xdata"
   ]
  },
  {
   "cell_type": "markdown",
   "id": "8de3612b-6659-4901-a58b-9a364b4b8ebd",
   "metadata": {},
   "source": [
    "# Examples #\n",
    "We currently have 4 datasets with full-order models:  \n",
    "1.1 Data generated by SISO linear model.  \n",
    "1.2 Data generated by MIMO linear model.  \n",
    "2.1 FSI rubberband with linear spring force.  \n",
    "2.2 FSI rubberband with nonlinear spring force.  \n",
    "\n",
    "The first two data sets are fed in batches, while the two rubberband data sets are trained using only one sequence."
   ]
  },
  {
   "cell_type": "markdown",
   "id": "7bf95681-7b00-4d09-af17-c96d84542fa8",
   "metadata": {},
   "source": [
    "## Define global loss function and metrics ##"
   ]
  },
  {
   "cell_type": "code",
   "execution_count": 14,
   "id": "404e05ca-66c6-4dc4-85a9-a2369cea8fb8",
   "metadata": {},
   "outputs": [],
   "source": [
    "# Instantiate a loss function.\n",
    "loss_fn = keras.losses.MeanSquaredError()\n",
    "\n",
    "# Prepare the metrics.\n",
    "train_acc_metric = keras.metrics.MeanSquaredError()\n",
    "val_acc_metric = keras.metrics.MeanSquaredError()"
   ]
  },
  {
   "cell_type": "markdown",
   "id": "180176f3-934a-4bcb-ac89-c187b44f8b49",
   "metadata": {},
   "source": [
    "## Define training routines ##"
   ]
  },
  {
   "cell_type": "code",
   "execution_count": 15,
   "id": "db221922-e18b-4dfd-b1d1-644dea21b1c8",
   "metadata": {},
   "outputs": [],
   "source": [
    "def train_fcns(model, lr):\n",
    "    # Instantiate an optimizer.\n",
    "    optimizer = keras.optimizers.Adam(learning_rate=lr)\n",
    "    # define training and validation functions\n",
    "    @tf.function\n",
    "    def train_step(x, y):\n",
    "        with tf.GradientTape() as tape:\n",
    "            yout = model(x, training=True)\n",
    "            loss_value = loss_fn(y, yout)\n",
    "        grads = tape.gradient(loss_value, model.trainable_weights)\n",
    "        optimizer.apply_gradients(zip(grads, model.trainable_weights))\n",
    "        train_acc_metric.update_state(y, yout)\n",
    "        return loss_value \n",
    "\n",
    "    # The tf.function decorator accelerate tensor computation by graph computing \n",
    "    @tf.function\n",
    "    def val_step(x, y):\n",
    "        val_out = model(x, training=False)\n",
    "        val_acc_metric.update_state(y, val_out)\n",
    "    return train_step, val_step"
   ]
  },
  {
   "cell_type": "code",
   "execution_count": 16,
   "id": "005dbf1e-6d4e-46e6-a133-2ce9e18e4539",
   "metadata": {},
   "outputs": [],
   "source": [
    "def train_loop(epochs, train_step, val_step):\n",
    "    neprint = 20\n",
    "    errs = []\n",
    "    for epoch in range(epochs):\n",
    "        start_time = time.time()\n",
    "        # Iterate over the batches of the dataset.\n",
    "        for step, (x_batch_train, y_batch_train) in enumerate(train_dataset):\n",
    "            loss_value = train_step(x_batch_train, y_batch_train)\n",
    "            errs.append(float(loss_value))\n",
    "            \n",
    "\n",
    "        # Display metrics at the end of each epoch.\n",
    "        train_acc = train_acc_metric.result()\n",
    "        # Reset training metrics at the end of each epoch\n",
    "        train_acc_metric.reset_states()\n",
    "        # Run a validation loop at the end of each epoch.\n",
    "        for x_batch_val, y_batch_val in val_dataset:\n",
    "            val_step(x_batch_val, y_batch_val)\n",
    "\n",
    "        val_acc = val_acc_metric.result()\n",
    "        val_acc_metric.reset_states()\n",
    "        if (epoch+1) % neprint==0:\n",
    "            print(f\"Training acc over epoch: {float(train_acc):.6f}\")\n",
    "            print(\"Validation acc: %.4f\" % (float(val_acc),))\n",
    "            print(\"Time taken: %.2fs\" % (time.time() - start_time))\n",
    "    return errs"
   ]
  },
  {
   "cell_type": "code",
   "execution_count": null,
   "id": "3ba6f90a-23d7-433e-964e-94fbddadceea",
   "metadata": {},
   "outputs": [],
   "source": []
  },
  {
   "cell_type": "code",
   "execution_count": null,
   "id": "7f3e4c6d-efe0-4fe5-9af5-bd6d61de6931",
   "metadata": {},
   "outputs": [],
   "source": []
  },
  {
   "cell_type": "code",
   "execution_count": null,
   "id": "8f6d62a3-5609-4477-88f6-a34175962fbd",
   "metadata": {},
   "outputs": [],
   "source": []
  },
  {
   "cell_type": "code",
   "execution_count": null,
   "id": "2e571cea-2f64-4701-b39d-bacacd2846df",
   "metadata": {},
   "outputs": [],
   "source": []
  },
  {
   "cell_type": "code",
   "execution_count": null,
   "id": "56979ef1-642f-4157-8b1a-61e43fdbda56",
   "metadata": {},
   "outputs": [],
   "source": []
  },
  {
   "cell_type": "markdown",
   "id": "a0c0b481-dc61-40b4-a678-491f7b37242f",
   "metadata": {},
   "source": [
    "## Example 1.1: SISO Linear ##"
   ]
  },
  {
   "cell_type": "code",
   "execution_count": 17,
   "id": "adfeb89e-ea9f-453d-936a-e3674946f11b",
   "metadata": {},
   "outputs": [
    {
     "name": "stdout",
     "output_type": "stream",
     "text": [
      "force magnitude: 0.976196\n",
      "dx magnitude: 0.230573\n"
     ]
    }
   ],
   "source": [
    "filepath = '../matlab/eady_fb_siso.mat'\n",
    "xdata, c, k, fdata = load_matlab(filepath)\n",
    "train_dataset, val_dataset, ts, siso_test = data_loader(xdata, k, one_seq=False, cutoff=15, batch_size=8, val_ratio=0.2, test_ratio=0.1)"
   ]
  },
  {
   "cell_type": "code",
   "execution_count": 18,
   "id": "31df08a8-b355-4b8d-a86b-6b29fc574c1f",
   "metadata": {},
   "outputs": [],
   "source": [
    "# force function (linear for this example)\n",
    "def fsiso(x):\n",
    "    '''\n",
    "    x is a tensor with shape = (batch, dimx)\n",
    "    '''\n",
    "    return -x"
   ]
  },
  {
   "cell_type": "markdown",
   "id": "5c225f29-1839-4c37-b3a0-94399a73c516",
   "metadata": {
    "tags": []
   },
   "source": [
    "### 1. Explicit Model ###"
   ]
  },
  {
   "cell_type": "code",
   "execution_count": 17,
   "id": "91b607d2-ce33-427c-a4e1-44cfa02ebe6a",
   "metadata": {},
   "outputs": [
    {
     "name": "stdout",
     "output_type": "stream",
     "text": [
      "Model: \"const_exp_rom\"\n",
      "_________________________________________________________________\n",
      "Layer (type)                 Output Shape              Param #   \n",
      "=================================================================\n",
      "input_1 (InputLayer)         [(None, 15, 1)]           0         \n",
      "_________________________________________________________________\n",
      "rnn (RNN)                    (None, 15, 1)             20        \n",
      "=================================================================\n",
      "Total params: 20\n",
      "Trainable params: 20\n",
      "Non-trainable params: 0\n",
      "_________________________________________________________________\n"
     ]
    }
   ],
   "source": [
    "#build model\n",
    "x_dim = siso_test.shape[2]\n",
    "time_steps = ts\n",
    "\n",
    "# specify hidden dimension\n",
    "hidden_dim = 10\n",
    "\n",
    "# build linear model\n",
    "exp_siso = build_const_exp_model(x_dim, hidden_dim, time_steps, c, k, fsiso)\n",
    "exp_siso.summary()"
   ]
  },
  {
   "cell_type": "code",
   "execution_count": 111,
   "id": "049893ef-6827-4aac-94cd-64b59989ca96",
   "metadata": {},
   "outputs": [],
   "source": [
    "train_step, val_step = train_fcns(exp_siso, 1e-1)"
   ]
  },
  {
   "cell_type": "code",
   "execution_count": 113,
   "id": "acd4e7b7-6c23-4ae2-aaf1-dad48ee1b085",
   "metadata": {},
   "outputs": [
    {
     "name": "stdout",
     "output_type": "stream",
     "text": [
      "Training acc over epoch: 0.078521\n",
      "Validation acc: 0.0495\n",
      "Time taken: 0.04s\n",
      "Training acc over epoch: 0.071590\n",
      "Validation acc: 0.0451\n",
      "Time taken: 0.03s\n",
      "Training acc over epoch: 0.064355\n",
      "Validation acc: 0.0405\n",
      "Time taken: 0.03s\n",
      "Training acc over epoch: 0.045195\n",
      "Validation acc: 0.0278\n",
      "Time taken: 0.03s\n",
      "Training acc over epoch: 0.001061\n",
      "Validation acc: 0.0007\n",
      "Time taken: 0.03s\n"
     ]
    }
   ],
   "source": [
    "_ = train_loop(100, train_step, val_step)"
   ]
  },
  {
   "cell_type": "code",
   "execution_count": 18,
   "id": "d4eed29c-dcba-4a2e-a377-7c2ee4c24db8",
   "metadata": {},
   "outputs": [],
   "source": [
    "exp_siso.load_weights('model_weights/exp_siso_unstable.h5')"
   ]
  },
  {
   "cell_type": "code",
   "execution_count": 19,
   "id": "29b7ab8c-f9c1-41d0-a9fb-acafefbd7064",
   "metadata": {},
   "outputs": [
    {
     "name": "stdout",
     "output_type": "stream",
     "text": [
      "Test loss of sample 0: 0.570120.\n"
     ]
    },
    {
     "data": {
      "image/png": "[encoded data removed]",
      "text/plain": [
       "<Figure size 432x288 with 1 Axes>"
      ]
     },
     "metadata": {
      "needs_background": "light"
     },
     "output_type": "display_data"
    }
   ],
   "source": [
    "#test\n",
    "x_pred_us, siso_test_exp = test_traj_plot(exp_siso, siso_test, n_step=60)\n",
    "#plt.savefig('../Notes/siso_unstable.png')"
   ]
  },
  {
   "cell_type": "code",
   "execution_count": 20,
   "id": "3562eee7-f58a-45fc-b47f-19e7309f93b6",
   "metadata": {},
   "outputs": [
    {
     "data": {
      "text/plain": [
       "(61, 1)"
      ]
     },
     "execution_count": 20,
     "metadata": {},
     "output_type": "execute_result"
    }
   ],
   "source": [
    "x_pred_us.shape"
   ]
  },
  {
   "cell_type": "code",
   "execution_count": 21,
   "id": "b48bdc00-80a7-40db-be92-cee3672faae7",
   "metadata": {},
   "outputs": [
    {
     "data": {
      "text/plain": [
       "(81, 1)"
      ]
     },
     "execution_count": 21,
     "metadata": {},
     "output_type": "execute_result"
    }
   ],
   "source": [
    "siso_test_exp.shape"
   ]
  },
  {
   "cell_type": "code",
   "execution_count": 22,
   "id": "7f6214de-b936-4179-b0a8-2ea97c8dc291",
   "metadata": {},
   "outputs": [],
   "source": [
    "np.save('data/siso_test_exp.npy', siso_test_exp)\n",
    "np.save('data/siso_exp_us.npy', x_pred_us)"
   ]
  },
  {
   "cell_type": "code",
   "execution_count": 108,
   "id": "bc1ca96a-bc4a-4862-b0a7-9f3afa2962ea",
   "metadata": {},
   "outputs": [],
   "source": [
    "exp_siso.save_weights('model_weights/exp_siso_unstable.h5')"
   ]
  },
  {
   "cell_type": "code",
   "execution_count": 118,
   "id": "506de294-3e84-4759-99d4-215f63673369",
   "metadata": {},
   "outputs": [
    {
     "data": {
      "text/plain": [
       "-0.774606875849288"
      ]
     },
     "execution_count": 118,
     "metadata": {},
     "output_type": "execute_result"
    }
   ],
   "source": [
    "cell_exp_siso = exp_siso.layers[1].cell\n",
    "M_d = np.vstack((np.hstack((np.diag(1.0-cell_exp_siso.nd.numpy())+cell_exp_siso.A.numpy().T-cell_exp_siso.A.numpy(), \n",
    "                            -cell_exp_siso.R.numpy().T)),\n",
    "           np.hstack((cell_exp_siso.R.numpy(), [[1]]))))\n",
    "w, v = LA.eig(M_d)\n",
    "min(w.real)"
   ]
  },
  {
   "cell_type": "markdown",
   "id": "1498a0dd-be41-4256-88a8-c77e273c9341",
   "metadata": {},
   "source": [
    "### 2. Implicit Model ###"
   ]
  },
  {
   "cell_type": "code",
   "execution_count": 19,
   "id": "efcfdf45-ac40-405f-bf63-ec25cb29ba20",
   "metadata": {},
   "outputs": [],
   "source": [
    "# Implicit model requires the force Jacobian\n",
    "def jfsiso(x):\n",
    "    '''\n",
    "    x is a tensor with shape = (batch, dimx). \n",
    "    When batch > 1, this must return a constant matrix, i.e., the force is linear.\n",
    "    '''\n",
    "    return -tf.eye(x.shape[-1])"
   ]
  },
  {
   "cell_type": "code",
   "execution_count": 20,
   "id": "b93c7753-7c1c-45ab-9b68-6d27bb88b48b",
   "metadata": {},
   "outputs": [
    {
     "name": "stdout",
     "output_type": "stream",
     "text": [
      "Model: \"const_mid_rom\"\n",
      "_________________________________________________________________\n",
      "Layer (type)                 Output Shape              Param #   \n",
      "=================================================================\n",
      "input_1 (InputLayer)         [(None, 15, 1)]           0         \n",
      "_________________________________________________________________\n",
      "rnn (RNN)                    (None, 15, 1)             20        \n",
      "=================================================================\n",
      "Total params: 20\n",
      "Trainable params: 20\n",
      "Non-trainable params: 0\n",
      "_________________________________________________________________\n"
     ]
    }
   ],
   "source": [
    "#build model\n",
    "x_dim = siso_test.shape[2]\n",
    "time_steps = ts\n",
    "\n",
    "# specify hidden dimension\n",
    "hidden_dim = 10\n",
    "\n",
    "# build linear model\n",
    "mid_siso = build_const_mid_model(x_dim, hidden_dim, time_steps, c, k, fsiso, jfsiso)\n",
    "mid_siso.summary()"
   ]
  },
  {
   "cell_type": "code",
   "execution_count": 25,
   "id": "111a7ac5-bfc0-46f6-a5d1-1b67d7a8de22",
   "metadata": {},
   "outputs": [],
   "source": [
    "mid_siso.load_weights('model_weights/mid_siso_stable15.h5')"
   ]
  },
  {
   "cell_type": "code",
   "execution_count": 60,
   "id": "dffe87c9-d3db-4beb-a3ea-f3ac15dac1a9",
   "metadata": {},
   "outputs": [
    {
     "name": "stdout",
     "output_type": "stream",
     "text": [
      "Model: \"const_mid_rom\"\n",
      "_________________________________________________________________\n",
      "Layer (type)                 Output Shape              Param #   \n",
      "=================================================================\n",
      "input_4 (InputLayer)         [(None, 15, 1)]           0         \n",
      "_________________________________________________________________\n",
      "rnn_3 (RNN)                  (None, 15, 1)             110       \n",
      "=================================================================\n",
      "Total params: 110\n",
      "Trainable params: 110\n",
      "Non-trainable params: 0\n",
      "_________________________________________________________________\n"
     ]
    }
   ],
   "source": [
    "#build unstable (more accurately, not sure if stable) model\n",
    "x_dim = siso_test.shape[2]\n",
    "time_steps = ts\n",
    "\n",
    "# specify hidden dimension\n",
    "hidden_dim = 10\n",
    "\n",
    "# build linear model\n",
    "mid_siso_us = build_const_mid_model_us(x_dim, hidden_dim, time_steps, c, k, fsiso, jfsiso)\n",
    "mid_siso_us.summary()"
   ]
  },
  {
   "cell_type": "code",
   "execution_count": 21,
   "id": "c348f526-9e48-404c-9173-dec186ed0ab9",
   "metadata": {},
   "outputs": [],
   "source": [
    "train_step, val_step = train_fcns(mid_siso, 1e-2)"
   ]
  },
  {
   "cell_type": "code",
   "execution_count": 22,
   "id": "c3395a12-4965-4b51-8bbf-930e250ca887",
   "metadata": {},
   "outputs": [
    {
     "name": "stdout",
     "output_type": "stream",
     "text": [
      "Training acc over epoch: 0.000633\n",
      "Validation acc: 0.0006\n",
      "Time taken: 0.03s\n",
      "Training acc over epoch: 0.000038\n",
      "Validation acc: 0.0000\n",
      "Time taken: 0.04s\n",
      "Training acc over epoch: 0.000007\n",
      "Validation acc: 0.0000\n",
      "Time taken: 0.03s\n",
      "Training acc over epoch: 0.000004\n",
      "Validation acc: 0.0000\n",
      "Time taken: 0.04s\n",
      "Training acc over epoch: 0.000004\n",
      "Validation acc: 0.0000\n",
      "Time taken: 0.02s\n"
     ]
    }
   ],
   "source": [
    "errs = train_loop(100, train_step, val_step)"
   ]
  },
  {
   "cell_type": "code",
   "execution_count": 28,
   "id": "a76bf309-2380-4b3a-a361-2d38fa6e0b20",
   "metadata": {},
   "outputs": [],
   "source": [
    "np.save('data/err_stable.npy', np.array(errs))"
   ]
  },
  {
   "cell_type": "code",
   "execution_count": 25,
   "id": "1eb3b79c-8870-4fb3-ae05-30264f0b36e7",
   "metadata": {},
   "outputs": [
    {
     "data": {
      "text/plain": [
       "[<matplotlib.lines.Line2D at 0x22b4b596dc8>]"
      ]
     },
     "execution_count": 25,
     "metadata": {},
     "output_type": "execute_result"
    },
    {
     "data": {
      "image/png": "[encoded data removed]",
      "text/plain": [
       "<Figure size 576x396 with 1 Axes>"
      ]
     },
     "metadata": {},
     "output_type": "display_data"
    }
   ],
   "source": [
    "plt.plot(np.log(errs))"
   ]
  },
  {
   "cell_type": "code",
   "execution_count": 26,
   "id": "5e2cc6d9-0ded-4ee8-b9f0-9925eb5fa4ee",
   "metadata": {},
   "outputs": [
    {
     "name": "stdout",
     "output_type": "stream",
     "text": [
      "Test loss of sample 0: 0.000258.\n"
     ]
    },
    {
     "data": {
      "image/png": "[encoded data removed]",
      "text/plain": [
       "<Figure size 432x288 with 1 Axes>"
      ]
     },
     "metadata": {
      "needs_background": "light"
     },
     "output_type": "display_data"
    }
   ],
   "source": [
    "#test\n",
    "x_pred_mids, siso_test_mids = test_traj_plot(mid_siso, siso_test, n_step=160)\n",
    "#plt.savefig('../Notes/siso_mid_unstable.png')"
   ]
  },
  {
   "cell_type": "code",
   "execution_count": 64,
   "id": "181a592b-3b66-43da-94de-081f32a20d30",
   "metadata": {},
   "outputs": [],
   "source": [
    "np.save('data/siso_mid_us.npy', x_pred_midus)"
   ]
  },
  {
   "cell_type": "code",
   "execution_count": 72,
   "id": "98da0b7c-27c4-4d30-8557-a1f665f911f5",
   "metadata": {},
   "outputs": [],
   "source": [
    "np.save('data/siso_mid_s.npy', x_pred_mids)\n",
    "np.save('data/siso_mid_s.npy', x_pred_mids)"
   ]
  },
  {
   "cell_type": "code",
   "execution_count": 65,
   "id": "3c86b605-385a-4927-afbf-c819aa3dbaee",
   "metadata": {},
   "outputs": [],
   "source": [
    "mid_siso_us.save_weights('model_weights/mid_siso_unstable.h5')"
   ]
  },
  {
   "cell_type": "code",
   "execution_count": 35,
   "id": "036aabf4-9a82-4f69-8cb7-43f52944a9a1",
   "metadata": {},
   "outputs": [
    {
     "data": {
      "text/plain": [
       "1.250615254415248"
      ]
     },
     "execution_count": 35,
     "metadata": {},
     "output_type": "execute_result"
    }
   ],
   "source": [
    "w = -mid_siso_us.layers[1].cell.W.numpy()\n",
    "r = mid_siso_us.layers[1].cell.R.numpy()\n",
    "M_d = np.vstack((np.hstack((w.T, r.T)),\n",
    "           np.hstack((r, [[1]]))))\n",
    "evals, _ = LA.eig(M_d)\n",
    "max(abs(evals))"
   ]
  },
  {
   "cell_type": "code",
   "execution_count": 155,
   "id": "f152e6c9-814b-4a08-bb3b-95356c7a6444",
   "metadata": {},
   "outputs": [],
   "source": [
    "mid_siso.save_weights('model_weights/mid_siso_stable15.h5')"
   ]
  },
  {
   "cell_type": "markdown",
   "id": "cc3435cb-ec8a-4266-a4e1-cd0d2838b124",
   "metadata": {},
   "source": [
    "## Example 1.2: MIMO Linear ##"
   ]
  },
  {
   "cell_type": "code",
   "execution_count": 73,
   "id": "9791c22e-9df0-4fe0-8bc9-fac4125cca99",
   "metadata": {},
   "outputs": [
    {
     "name": "stdout",
     "output_type": "stream",
     "text": [
      "force magnitude: 1.360832\n",
      "dx magnitude: 0.239935\n"
     ]
    }
   ],
   "source": [
    "# load data\n",
    "filepath = '../matlab/eady_fb_mimo.mat'\n",
    "xdata, c, k, fdata = load_matlab(filepath)\n",
    "train_dataset, val_dataset, ts, mimo_test = data_loader(xdata, k, cutoff=15, one_seq=False, batch_size=8, val_ratio=0.2, test_ratio=0.1)"
   ]
  },
  {
   "cell_type": "code",
   "execution_count": 74,
   "id": "658319db-9456-4ca5-9080-953b2ed06b44",
   "metadata": {},
   "outputs": [],
   "source": [
    "# force function (linear for this example, same as SISO)\n",
    "def fmimo(x):\n",
    "    '''\n",
    "    x is a tensor with shape = (batch, dimx)\n",
    "    '''\n",
    "    return -x"
   ]
  },
  {
   "cell_type": "markdown",
   "id": "eca1e2d5-a626-4426-a73c-c16d59dfeffe",
   "metadata": {},
   "source": [
    "### 1. Explicit Model ###"
   ]
  },
  {
   "cell_type": "code",
   "execution_count": 17,
   "id": "3e7df6cd-a9b0-4b0a-9f0d-b7d991bf8746",
   "metadata": {},
   "outputs": [
    {
     "data": {
      "text/plain": [
       "(10, 81, 16)"
      ]
     },
     "execution_count": 17,
     "metadata": {},
     "output_type": "execute_result"
    }
   ],
   "source": [
    "mimo_test.shape"
   ]
  },
  {
   "cell_type": "code",
   "execution_count": 18,
   "id": "7946e9aa-90c3-43c8-acd5-ccea80f6ec4a",
   "metadata": {},
   "outputs": [
    {
     "data": {
      "text/plain": [
       "(100, 81, 16)"
      ]
     },
     "execution_count": 18,
     "metadata": {},
     "output_type": "execute_result"
    }
   ],
   "source": [
    "xdata.shape"
   ]
  },
  {
   "cell_type": "code",
   "execution_count": 29,
   "id": "cab369c0-a274-4927-81db-284bb55a1150",
   "metadata": {},
   "outputs": [
    {
     "name": "stdout",
     "output_type": "stream",
     "text": [
      "Model: \"const_exp_rom\"\n",
      "_________________________________________________________________\n",
      "Layer (type)                 Output Shape              Param #   \n",
      "=================================================================\n",
      "input_3 (InputLayer)         [(None, 80, 16)]          0         \n",
      "_________________________________________________________________\n",
      "rnn_2 (RNN)                  (None, 80, 16)            544       \n",
      "=================================================================\n",
      "Total params: 544\n",
      "Trainable params: 544\n",
      "Non-trainable params: 0\n",
      "_________________________________________________________________\n"
     ]
    }
   ],
   "source": [
    "#build model\n",
    "x_dim = mimo_test.shape[2]\n",
    "time_steps = ts\n",
    "\n",
    "# specify hidden dimension\n",
    "hidden_dim = x_dim*2\n",
    "\n",
    "# build linear model\n",
    "exp_mimo = build_const_exp_model(x_dim, hidden_dim, time_steps, c, k, fmimo)\n",
    "exp_mimo.summary()"
   ]
  },
  {
   "cell_type": "code",
   "execution_count": 30,
   "id": "435845f5-d896-44c2-852c-e3dabfdc5a2d",
   "metadata": {},
   "outputs": [],
   "source": [
    "train_step, val_step = train_fcns(exp_mimo, 1e-2)"
   ]
  },
  {
   "cell_type": "code",
   "execution_count": 31,
   "id": "93b54df1-ac00-41a8-bce5-d4c08af1c1ae",
   "metadata": {},
   "outputs": [
    {
     "name": "stdout",
     "output_type": "stream",
     "text": [
      "Training acc over epoch: 0.002261\n",
      "Validation acc: 0.0026\n",
      "Time taken: 0.04s\n",
      "Training acc over epoch: 0.001241\n",
      "Validation acc: 0.0017\n",
      "Time taken: 0.05s\n",
      "Training acc over epoch: 0.000744\n",
      "Validation acc: 0.0012\n",
      "Time taken: 0.04s\n",
      "Training acc over epoch: 0.000536\n",
      "Validation acc: 0.0009\n",
      "Time taken: 0.04s\n",
      "Training acc over epoch: 0.000375\n",
      "Validation acc: 0.0008\n",
      "Time taken: 0.05s\n"
     ]
    }
   ],
   "source": [
    "train_loop(100, train_step, val_step)"
   ]
  },
  {
   "cell_type": "code",
   "execution_count": 32,
   "id": "11f35b84-4d24-4710-abd2-8b42d9e9a799",
   "metadata": {},
   "outputs": [
    {
     "name": "stdout",
     "output_type": "stream",
     "text": [
      "Test loss of sample 1: 0.00.\n"
     ]
    },
    {
     "data": {
      "image/png": "[encoded data removed]",
      "text/plain": [
       "<Figure size 432x288 with 1 Axes>"
      ]
     },
     "metadata": {
      "needs_background": "light"
     },
     "output_type": "display_data"
    }
   ],
   "source": [
    "#test\n",
    "_ = test_traj_plot(exp_mimo, mimo_test, n_step=200)"
   ]
  },
  {
   "cell_type": "markdown",
   "id": "af03c256-ac35-4c53-b78f-495b51fe31f3",
   "metadata": {},
   "source": [
    "### Implicit Model ###"
   ]
  },
  {
   "cell_type": "code",
   "execution_count": 75,
   "id": "00d655d4-5b31-4e41-977d-bb4847d8ea59",
   "metadata": {},
   "outputs": [],
   "source": [
    "# Implicit model requires the force Jacobian, in this example it's -I\n",
    "def jfmimo(x):\n",
    "    '''\n",
    "    x is a tensor with shape = (batch, dimx). \n",
    "    When batch > 1, this must return a constant matrix, i.e., the force is linear.\n",
    "    '''\n",
    "    return -tf.eye(x.shape[-1])"
   ]
  },
  {
   "cell_type": "code",
   "execution_count": 76,
   "id": "88d7e575-9614-4587-9386-7c7a208c81a4",
   "metadata": {},
   "outputs": [
    {
     "name": "stdout",
     "output_type": "stream",
     "text": [
      "Model: \"const_mid_rom\"\n",
      "_________________________________________________________________\n",
      "Layer (type)                 Output Shape              Param #   \n",
      "=================================================================\n",
      "input_7 (InputLayer)         [(None, 15, 16)]          0         \n",
      "_________________________________________________________________\n",
      "rnn_6 (RNN)                  (None, 15, 16)            544       \n",
      "=================================================================\n",
      "Total params: 544\n",
      "Trainable params: 544\n",
      "Non-trainable params: 0\n",
      "_________________________________________________________________\n"
     ]
    }
   ],
   "source": [
    "#build model\n",
    "x_dim = mimo_test.shape[2]\n",
    "time_steps = ts\n",
    "\n",
    "# specify hidden dimension\n",
    "hidden_dim = 2*x_dim\n",
    "\n",
    "# build linear model\n",
    "mid_mimo = build_const_mid_model(x_dim, hidden_dim, time_steps, c, k, fmimo, jfmimo)\n",
    "mid_mimo.summary()"
   ]
  },
  {
   "cell_type": "code",
   "execution_count": 99,
   "id": "b8c02574-ab23-4212-99d2-1386bb334697",
   "metadata": {},
   "outputs": [],
   "source": [
    "mid_mimo.save_weights('model_weights/mid_mimo.h5')"
   ]
  },
  {
   "cell_type": "code",
   "execution_count": 79,
   "id": "ba2a6dca-5d83-43d3-a998-09f57113bfe0",
   "metadata": {},
   "outputs": [],
   "source": [
    "train_step, val_step = train_fcns(mid_mimo, 1e-3)"
   ]
  },
  {
   "cell_type": "code",
   "execution_count": 88,
   "id": "a47162ba-562b-4419-99f2-2221b833db09",
   "metadata": {},
   "outputs": [
    {
     "name": "stdout",
     "output_type": "stream",
     "text": [
      "Training acc over epoch: 0.000004\n",
      "Validation acc: 0.0000\n",
      "Time taken: 0.10s\n",
      "Training acc over epoch: 0.000003\n",
      "Validation acc: 0.0000\n",
      "Time taken: 0.09s\n",
      "Training acc over epoch: 0.000003\n",
      "Validation acc: 0.0000\n",
      "Time taken: 0.10s\n",
      "Training acc over epoch: 0.000002\n",
      "Validation acc: 0.0000\n",
      "Time taken: 0.09s\n",
      "Training acc over epoch: 0.000002\n",
      "Validation acc: 0.0000\n",
      "Time taken: 0.10s\n"
     ]
    }
   ],
   "source": [
    "_ = train_loop(100, train_step, val_step)"
   ]
  },
  {
   "cell_type": "code",
   "execution_count": 98,
   "id": "69f41ae7-d3ec-424f-93be-b35aa7291323",
   "metadata": {},
   "outputs": [
    {
     "name": "stdout",
     "output_type": "stream",
     "text": [
      "Test loss of sample 0: 0.000042.\n"
     ]
    },
    {
     "data": {
      "image/png": "[encoded data removed]",
      "text/plain": [
       "<Figure size 640x480 with 1 Axes>"
      ]
     },
     "metadata": {},
     "output_type": "display_data"
    }
   ],
   "source": [
    "#test\n",
    "x_pred_mimos = test_traj_plot(mid_mimo, mimo_test, n_step=160, randcomp=True)\n",
    "#plt.savefig('../Notes/mimo_comp5.png')"
   ]
  },
  {
   "cell_type": "code",
   "execution_count": 100,
   "id": "89c9c74f-c585-4ccd-b324-a4e63811f3d7",
   "metadata": {},
   "outputs": [],
   "source": [
    "np.save('data/mimo_test.npy', mimo_test)\n",
    "np.save('data/mimo_mid_pred.npy', x_pred_mimos)"
   ]
  },
  {
   "cell_type": "code",
   "execution_count": 41,
   "id": "9a6c1734-26f2-4109-9836-ebd8fd024bc7",
   "metadata": {},
   "outputs": [
    {
     "data": {
      "text/plain": [
       "(201, 16)"
      ]
     },
     "execution_count": 41,
     "metadata": {},
     "output_type": "execute_result"
    }
   ],
   "source": [
    "x_pred.shape"
   ]
  },
  {
   "cell_type": "code",
   "execution_count": 43,
   "id": "8494c159-664a-48eb-a586-49213c1bcb61",
   "metadata": {},
   "outputs": [
    {
     "data": {
      "text/plain": [
       "(81, 16)"
      ]
     },
     "execution_count": 43,
     "metadata": {},
     "output_type": "execute_result"
    }
   ],
   "source": [
    "x_true = mimo_test[0]\n",
    "x_true.shape"
   ]
  },
  {
   "cell_type": "code",
   "execution_count": 80,
   "id": "7625abd1-a330-4433-b567-f80b06356f80",
   "metadata": {},
   "outputs": [],
   "source": [
    "v_proj = np.random.rand(16,1)"
   ]
  },
  {
   "cell_type": "code",
   "execution_count": 81,
   "id": "004041a0-4a1b-4c41-bc82-4f59eccc498a",
   "metadata": {},
   "outputs": [],
   "source": [
    "proj_true = x_true @ v_proj\n",
    "proj_pred = x_pred @ v_proj"
   ]
  },
  {
   "cell_type": "code",
   "execution_count": 82,
   "id": "534e09f6-083f-40f8-872f-5f60e0b7d3c6",
   "metadata": {},
   "outputs": [
    {
     "data": {
      "image/png": "[encoded data removed]",
      "text/plain": [
       "<Figure size 576x396 with 1 Axes>"
      ]
     },
     "metadata": {},
     "output_type": "display_data"
    }
   ],
   "source": [
    "plt.plot(proj_true, label='true')\n",
    "plt.plot(proj_pred, '--', label='pred')\n",
    "plt.xticks(fontsize=14)\n",
    "plt.yticks(fontsize=14)\n",
    "plt.legend(prop={'size': 16})\n",
    "plt.xlabel('time steps', fontsize=18)\n",
    "plt.ylabel('x', fontsize=18)\n",
    "plt.savefig('../Notes/mimo_stable_proj.png')"
   ]
  },
  {
   "cell_type": "code",
   "execution_count": null,
   "id": "652bbc98-3cf7-43d0-bd16-a7ad3c7ebbab",
   "metadata": {},
   "outputs": [],
   "source": []
  },
  {
   "cell_type": "markdown",
   "id": "6a4b9204-67b0-4c8c-ac63-614d961ec4e9",
   "metadata": {},
   "source": [
    "# Example 1.3: Periodic SISO"
   ]
  },
  {
   "cell_type": "code",
   "execution_count": 17,
   "id": "4aa7ea55-917d-4069-8bc2-ae208ff36955",
   "metadata": {},
   "outputs": [
    {
     "name": "stdout",
     "output_type": "stream",
     "text": [
      "force magnitude: 0.975964\n",
      "dx magnitude: 0.156981\n"
     ]
    }
   ],
   "source": [
    "filepath = '../matlab/tiny_fb_siso.mat'\n",
    "xdata, c, k, fdata = load_matlab(filepath)\n",
    "train_dataset, val_dataset, ts, siso_test = data_loader(xdata, k, one_seq=False, cutoff=20, batch_size=8, val_ratio=0.2, test_ratio=0.1)"
   ]
  },
  {
   "cell_type": "markdown",
   "id": "3e9006a9-5e95-4119-b7a3-c8523b26b09b",
   "metadata": {},
   "source": [
    "## Explicit model"
   ]
  },
  {
   "cell_type": "code",
   "execution_count": 18,
   "id": "0812450c-5982-4f7e-ae0b-44e9bbf12f7a",
   "metadata": {},
   "outputs": [
    {
     "name": "stdout",
     "output_type": "stream",
     "text": [
      "Model: \"const_exp_rom\"\n",
      "_________________________________________________________________\n",
      "Layer (type)                 Output Shape              Param #   \n",
      "=================================================================\n",
      "input_1 (InputLayer)         [(None, 20, 1)]           0         \n",
      "_________________________________________________________________\n",
      "rnn (RNN)                    (None, 20, 1)             8         \n",
      "=================================================================\n",
      "Total params: 8\n",
      "Trainable params: 8\n",
      "Non-trainable params: 0\n",
      "_________________________________________________________________\n"
     ]
    }
   ],
   "source": [
    "#build model\n",
    "x_dim = siso_test.shape[2]\n",
    "time_steps = ts\n",
    "\n",
    "# specify hidden dimension\n",
    "hidden_dim = 2\n",
    "\n",
    "# build linear model\n",
    "pex_siso = build_const_exp_model(x_dim, hidden_dim, time_steps, c, k, fsiso)\n",
    "pex_siso.summary()"
   ]
  },
  {
   "cell_type": "code",
   "execution_count": 19,
   "id": "cb859d2d-bc2f-4202-a543-2913b00f6b5c",
   "metadata": {},
   "outputs": [],
   "source": [
    "train_step, val_step = train_fcns(pex_siso, 1e-2)"
   ]
  },
  {
   "cell_type": "code",
   "execution_count": 20,
   "id": "55c498c4-55c1-4947-a541-4f99938ab9f2",
   "metadata": {},
   "outputs": [
    {
     "name": "stdout",
     "output_type": "stream",
     "text": [
      "Training acc over epoch: 0.000719\n",
      "Validation acc: 0.0010\n",
      "Time taken: 0.04s\n",
      "Training acc over epoch: 0.000631\n",
      "Validation acc: 0.0009\n",
      "Time taken: 0.06s\n",
      "Training acc over epoch: 0.000631\n",
      "Validation acc: 0.0009\n",
      "Time taken: 0.05s\n",
      "Training acc over epoch: 0.000631\n",
      "Validation acc: 0.0009\n",
      "Time taken: 0.05s\n",
      "Training acc over epoch: 0.000634\n",
      "Validation acc: 0.0009\n",
      "Time taken: 0.04s\n"
     ]
    }
   ],
   "source": [
    "_ = train_loop(100, train_step, val_step)"
   ]
  },
  {
   "cell_type": "code",
   "execution_count": 25,
   "id": "f74e92a5-178e-47e6-9c2b-7d8db247be3d",
   "metadata": {},
   "outputs": [
    {
     "name": "stdout",
     "output_type": "stream",
     "text": [
      "Test loss of sample 5: 0.020236.\n"
     ]
    },
    {
     "data": {
      "image/png": "[encoded data removed]",
      "text/plain": [
       "<Figure size 576x396 with 1 Axes>"
      ]
     },
     "metadata": {},
     "output_type": "display_data"
    }
   ],
   "source": [
    "#test\n",
    "_ = test_traj_plot(pex_siso, siso_test, n_step=100, randsample=True)\n",
    "#plt.savefig('../Notes/siso_unstable.png')"
   ]
  },
  {
   "cell_type": "code",
   "execution_count": 33,
   "id": "34e5c8d4-cc2a-48a1-962b-32571fbb48ac",
   "metadata": {},
   "outputs": [],
   "source": [
    "pex_siso.save_weights('model_weights/pd_siso_exp.h5')"
   ]
  },
  {
   "cell_type": "markdown",
   "id": "86df044d-ed09-4a8f-8d02-d053ca2a7753",
   "metadata": {},
   "source": [
    "## Mid-point Model"
   ]
  },
  {
   "cell_type": "code",
   "execution_count": 29,
   "id": "c52e8023-117e-41be-90e2-16eadf9d0f92",
   "metadata": {},
   "outputs": [
    {
     "name": "stdout",
     "output_type": "stream",
     "text": [
      "Model: \"const_mid_rom\"\n",
      "_________________________________________________________________\n",
      "Layer (type)                 Output Shape              Param #   \n",
      "=================================================================\n",
      "input_2 (InputLayer)         [(None, 20, 1)]           0         \n",
      "_________________________________________________________________\n",
      "rnn_1 (RNN)                  (None, 20, 1)             8         \n",
      "=================================================================\n",
      "Total params: 8\n",
      "Trainable params: 8\n",
      "Non-trainable params: 0\n",
      "_________________________________________________________________\n"
     ]
    }
   ],
   "source": [
    "#build model\n",
    "x_dim = siso_test.shape[2]\n",
    "time_steps = ts\n",
    "\n",
    "# specify hidden dimension\n",
    "hidden_dim = 2\n",
    "\n",
    "# build linear model\n",
    "pmd_siso = build_const_mid_model(x_dim, hidden_dim, time_steps, c, k, fsiso, jfsiso)\n",
    "pmd_siso.summary()"
   ]
  },
  {
   "cell_type": "code",
   "execution_count": 30,
   "id": "de8e79bd-265b-44f1-bf99-49c18d577420",
   "metadata": {},
   "outputs": [],
   "source": [
    "train_step, val_step = train_fcns(pmd_siso, 1e-2)"
   ]
  },
  {
   "cell_type": "code",
   "execution_count": 31,
   "id": "fe560342-14d2-4e56-a8e2-db852efeb1ff",
   "metadata": {},
   "outputs": [
    {
     "name": "stdout",
     "output_type": "stream",
     "text": [
      "Training acc over epoch: 0.009339\n",
      "Validation acc: 0.0135\n",
      "Time taken: 0.05s\n",
      "Training acc over epoch: 0.000001\n",
      "Validation acc: 0.0000\n",
      "Time taken: 0.03s\n",
      "Training acc over epoch: 0.000000\n",
      "Validation acc: 0.0000\n",
      "Time taken: 0.03s\n",
      "Training acc over epoch: 0.000000\n",
      "Validation acc: 0.0000\n",
      "Time taken: 0.04s\n",
      "Training acc over epoch: 0.000000\n",
      "Validation acc: 0.0000\n",
      "Time taken: 0.03s\n"
     ]
    }
   ],
   "source": [
    "_ = train_loop(100, train_step, val_step)"
   ]
  },
  {
   "cell_type": "code",
   "execution_count": 32,
   "id": "10b73c0b-3d72-4334-971b-7a76f708e30f",
   "metadata": {},
   "outputs": [
    {
     "name": "stdout",
     "output_type": "stream",
     "text": [
      "Test loss of sample 4: 0.000000.\n"
     ]
    },
    {
     "data": {
      "image/png": "[encoded data removed]",
      "text/plain": [
       "<Figure size 576x396 with 1 Axes>"
      ]
     },
     "metadata": {},
     "output_type": "display_data"
    }
   ],
   "source": [
    "#test\n",
    "_ = test_traj_plot(pmd_siso, siso_test, n_step=100, randsample=True)\n",
    "#plt.savefig('../Notes/siso_unstable.png')"
   ]
  },
  {
   "cell_type": "code",
   "execution_count": 34,
   "id": "54449362-99f3-4df5-b7fe-eac0f02bd65c",
   "metadata": {},
   "outputs": [],
   "source": [
    "pmd_siso.save_weights('model_weights/pd_siso_mid.h5')"
   ]
  },
  {
   "cell_type": "code",
   "execution_count": null,
   "id": "3adbbb0c-4af0-4f42-bba5-9128bbca661f",
   "metadata": {},
   "outputs": [],
   "source": []
  }
 ],
 "metadata": {
  "kernelspec": {
   "display_name": "Python 3 (ipykernel)",
   "language": "python",
   "name": "python3"
  },
  "language_info": {
   "codemirror_mode": {
    "name": "ipython",
    "version": 3
   },
   "file_extension": ".py",
   "mimetype": "text/x-python",
   "name": "python",
   "nbconvert_exporter": "python",
   "pygments_lexer": "ipython3",
   "version": "3.7.11"
  }
 },
 "nbformat": 4,
 "nbformat_minor": 5
}
